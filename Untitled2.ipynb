{
  "cells": [
    {
      "cell_type": "markdown",
      "metadata": {
        "id": "view-in-github",
        "colab_type": "text"
      },
      "source": [
        "<a href=\"https://colab.research.google.com/github/Coderkingkrishna/basic-c-programs/blob/main/Untitled2.ipynb\" target=\"_parent\"><img src=\"https://colab.research.google.com/assets/colab-badge.svg\" alt=\"Open In Colab\"/></a>"
      ]
    },
    {
      "cell_type": "code",
      "execution_count": null,
      "metadata": {
        "colab": {
          "base_uri": "https://localhost:8080/"
        },
        "id": "Ub0-a0Bi0Blk",
        "outputId": "896c775b-455a-416d-920f-8c7b724d4d33"
      },
      "outputs": [
        {
          "name": "stdout",
          "output_type": "stream",
          "text": [
            "Series([], dtype: float64)\n"
          ]
        },
        {
          "name": "stderr",
          "output_type": "stream",
          "text": [
            "<ipython-input-2-118a6ab0bee0>:2: FutureWarning: The default dtype for empty Series will be 'object' instead of 'float64' in a future version. Specify a dtype explicitly to silence this warning.\n",
            "  x=pd.Series()\n"
          ]
        }
      ],
      "source": [
        "import pandas as pd\n",
        "x=pd.Series()\n",
        "print(x)\n"
      ]
    },
    {
      "cell_type": "code",
      "execution_count": null,
      "metadata": {
        "colab": {
          "base_uri": "https://localhost:8080/"
        },
        "id": "2S1L_pnT4KId",
        "outputId": "e7ee68a1-c93f-4b10-f35c-bfd284824f29"
      },
      "outputs": [
        {
          "name": "stdout",
          "output_type": "stream",
          "text": [
            "0    a\n",
            "1    b\n",
            "2    c\n",
            "3    d\n",
            "dtype: object\n"
          ]
        }
      ],
      "source": [
        "import pandas as pd\n",
        "import numpy as np\n",
        "npdata = np.array(['a','b','c','d'])\n",
        "s=pd.Series(npdata)\n",
        "print(s)"
      ]
    },
    {
      "cell_type": "code",
      "execution_count": null,
      "metadata": {
        "colab": {
          "base_uri": "https://localhost:8080/"
        },
        "id": "nngano4E5Kw_",
        "outputId": "c8052f9c-a084-4190-d135-bf7274d789b3"
      },
      "outputs": [
        {
          "name": "stdout",
          "output_type": "stream",
          "text": [
            "b    1.0\n",
            "c    2.0\n",
            "d    NaN\n",
            "a    0.0\n",
            "dtype: float64\n"
          ]
        }
      ],
      "source": [
        "import numpy as np\n",
        "import pandas as pd\n",
        "data = {'a':0,'b':1,'c':2}\n",
        "s=pd.Series(data,index=['b','c','d','a'])\n",
        "print(s)"
      ]
    },
    {
      "cell_type": "code",
      "execution_count": null,
      "metadata": {
        "colab": {
          "base_uri": "https://localhost:8080/"
        },
        "id": "td-9aPOL6eqx",
        "outputId": "60f28dfa-7053-4fde-9503-33951c2ee0f0"
      },
      "outputs": [
        {
          "name": "stdout",
          "output_type": "stream",
          "text": [
            "a    0\n",
            "b    1\n",
            "c    2\n",
            "dtype: int64\n"
          ]
        }
      ],
      "source": [
        "import numpy as np\n",
        "import pandas as pd\n",
        "data = {'a':0,'b':1,'c':2}\n",
        "s=pd.Series(data)\n",
        "print(s)"
      ]
    },
    {
      "cell_type": "code",
      "execution_count": null,
      "metadata": {
        "colab": {
          "base_uri": "https://localhost:8080/"
        },
        "id": "mfJ1cW9B6rUI",
        "outputId": "5e821abb-3c0c-4afb-e99f-4936fcf81ad3"
      },
      "outputs": [
        {
          "name": "stdout",
          "output_type": "stream",
          "text": [
            "0    5\n",
            "1    5\n",
            "2    5\n",
            "3    5\n",
            "dtype: int64\n"
          ]
        }
      ],
      "source": [
        "import numpy as np\n",
        "import pandas as pd\n",
        "s=pd.Series(5,index=[0,1,2,3])\n",
        "print(s)"
      ]
    },
    {
      "cell_type": "code",
      "execution_count": null,
      "metadata": {
        "colab": {
          "base_uri": "https://localhost:8080/"
        },
        "id": "Yz23RxYQ7DAg",
        "outputId": "c324b374-bb6e-44cf-ad8b-1e4b160a1128"
      },
      "outputs": [
        {
          "name": "stdout",
          "output_type": "stream",
          "text": [
            "1\n",
            "a    1\n",
            "b    2\n",
            "c    3\n",
            "dtype: int64\n",
            "3\n"
          ]
        }
      ],
      "source": [
        "import numpy as np\n",
        "import pandas as pd\n",
        "s=pd.Series([1,2,3,4,5],index=['a','b','c','d','e'])\n",
        "print(s[0])\n",
        "print(s[:3])\n",
        "print(s[-3])"
      ]
    },
    {
      "cell_type": "code",
      "execution_count": null,
      "metadata": {
        "colab": {
          "base_uri": "https://localhost:8080/"
        },
        "id": "RVz4A2FQ9SRS",
        "outputId": "49711a07-80e5-4487-bd7d-c2b3babff82b"
      },
      "outputs": [
        {
          "name": "stdout",
          "output_type": "stream",
          "text": [
            "1\n",
            "a    1\n",
            "b    2\n",
            "c    3\n",
            "dtype: int64\n"
          ]
        }
      ],
      "source": [
        "import numpy as np\n",
        "import pandas as pd\n",
        "s=pd.Series([1,2,3,4,5],index=['a','b','c','d','e'])\n",
        "print(s['a'])\n",
        "print(s[['a','b','c']])"
      ]
    },
    {
      "cell_type": "code",
      "execution_count": 38,
      "metadata": {
        "colab": {
          "base_uri": "https://localhost:8080/"
        },
        "id": "Xagx0P0Z_30O",
        "outputId": "06286105-45b0-4350-8ec3-c82407efc401"
      },
      "outputs": [
        {
          "output_type": "stream",
          "name": "stdout",
          "text": [
            "   name  marks\n",
            "0   kri    100\n",
            "1  loki     99\n",
            "2   kan     98\n"
          ]
        }
      ],
      "source": [
        "import numpy as np\n",
        "import pandas as pd\n",
        "data=[['kri',100],['loki',99],['kan',98]]\n",
        "s=pd.DataFrame(data,columns=['name','marks'])\n",
        "print(s)"
      ]
    },
    {
      "cell_type": "code",
      "source": [
        "import numpy as np\n",
        "import pandas as pd\n",
        "data=[{'a':100,'b':200},{'a':98,'b':99,'c':100}]\n",
        "s=pd.DataFrame(data)\n",
        "print(s)"
      ],
      "metadata": {
        "colab": {
          "base_uri": "https://localhost:8080/"
        },
        "id": "R9lKgYimC4vc",
        "outputId": "530a4c7d-9f6c-4358-9379-b65bd6b74183"
      },
      "execution_count": 40,
      "outputs": [
        {
          "output_type": "stream",
          "name": "stdout",
          "text": [
            "     a    b      c\n",
            "0  100  200    NaN\n",
            "1   98   99  100.0\n"
          ]
        }
      ]
    },
    {
      "cell_type": "code",
      "source": [
        "import numpy as np\n",
        "import pandas as pd\n",
        "data=[{'a':100,'b':200},{'a':98,'b':99,'c':100}]\n",
        "s=pd.DataFrame(data,index=['first','second'])\n",
        "print(s)"
      ],
      "metadata": {
        "colab": {
          "base_uri": "https://localhost:8080/"
        },
        "id": "uVnxDethE2K2",
        "outputId": "c1b2b932-6825-470b-bbca-2141859a1e20"
      },
      "execution_count": 41,
      "outputs": [
        {
          "output_type": "stream",
          "name": "stdout",
          "text": [
            "          a    b      c\n",
            "first   100  200    NaN\n",
            "second   98   99  100.0\n"
          ]
        }
      ]
    },
    {
      "cell_type": "code",
      "source": [
        "import numpy as np\n",
        "import pandas as pd\n",
        "s={'one' : pd.Series([1,2,3,4,5],index=['a','b','c','d','e']) , 'second' : pd.Series([1,2,3,4,5],index=['a','b','c','d','e'])}\n",
        "d=pd.DataFrame(s)\n",
        "print(d)"
      ],
      "metadata": {
        "colab": {
          "base_uri": "https://localhost:8080/"
        },
        "id": "OXCyVqiWFA2s",
        "outputId": "6705e624-3637-4cbf-973f-db6ee71e243d"
      },
      "execution_count": 44,
      "outputs": [
        {
          "output_type": "stream",
          "name": "stdout",
          "text": [
            "   one  second\n",
            "a    1       1\n",
            "b    2       2\n",
            "c    3       3\n",
            "d    4       4\n",
            "e    5       5\n"
          ]
        }
      ]
    },
    {
      "cell_type": "code",
      "source": [
        "import numpy as np\n",
        "import pandas as pd\n",
        "s={'one' : pd.Series([1,2,3,4,5],index=['a','b','c','d','e']) , 'second' : pd.Series([1,2,3,4,5],index=['a','b','c','d','e'])}\n",
        "d=pd.DataFrame(s)\n",
        "print(d['one'])"
      ],
      "metadata": {
        "colab": {
          "base_uri": "https://localhost:8080/"
        },
        "id": "Y8x1kzZvGd2u",
        "outputId": "863f89c5-01e5-4e35-bbd6-7979e255ded9"
      },
      "execution_count": 45,
      "outputs": [
        {
          "output_type": "stream",
          "name": "stdout",
          "text": [
            "a    1\n",
            "b    2\n",
            "c    3\n",
            "d    4\n",
            "e    5\n",
            "Name: one, dtype: int64\n"
          ]
        }
      ]
    },
    {
      "cell_type": "code",
      "source": [
        "import numpy as np\n",
        "import pandas as pd\n",
        "s={'one' : pd.Series([1,2,3,4,5],index=['a','b','c','d','e']) , 'second' : pd.Series([1,2,3,4,5],index=['a','b','c','d','e'])}\n",
        "d=pd.DataFrame(s)\n",
        "d['three'] = pd.Series([10,20,30],index=['a','b','c'])\n",
        "print(d)"
      ],
      "metadata": {
        "colab": {
          "base_uri": "https://localhost:8080/"
        },
        "id": "HTb08MP4Gpgg",
        "outputId": "35d117b9-c34c-4033-edda-00f33e0f1904"
      },
      "execution_count": 48,
      "outputs": [
        {
          "output_type": "stream",
          "name": "stdout",
          "text": [
            "   one  second  three\n",
            "a    1       1   10.0\n",
            "b    2       2   20.0\n",
            "c    3       3   30.0\n",
            "d    4       4    NaN\n",
            "e    5       5    NaN\n"
          ]
        }
      ]
    },
    {
      "cell_type": "code",
      "source": [
        "import numpy as np\n",
        "import pandas as pd\n",
        "s={'one' : pd.Series([1,2,3,4,5],index=['a','b','c','d','e']) , 'second' : pd.Series([1,2,3,4,5],index=['a','b','c','d','e'])}\n",
        "d=pd.DataFrame(s)\n",
        "d['three'] = pd.Series([10,20,30],index=['a','b','c'])\n",
        "print(d)\n",
        "d['four'] = d['one'] + d['three']\n",
        "print(d)"
      ],
      "metadata": {
        "colab": {
          "base_uri": "https://localhost:8080/"
        },
        "id": "EeG00UcoH1OQ",
        "outputId": "b556af12-38a5-45dd-b270-dc42d352323c"
      },
      "execution_count": 49,
      "outputs": [
        {
          "output_type": "stream",
          "name": "stdout",
          "text": [
            "   one  second  three\n",
            "a    1       1   10.0\n",
            "b    2       2   20.0\n",
            "c    3       3   30.0\n",
            "d    4       4    NaN\n",
            "e    5       5    NaN\n",
            "   one  second  three  four\n",
            "a    1       1   10.0  11.0\n",
            "b    2       2   20.0  22.0\n",
            "c    3       3   30.0  33.0\n",
            "d    4       4    NaN   NaN\n",
            "e    5       5    NaN   NaN\n"
          ]
        }
      ]
    },
    {
      "cell_type": "code",
      "source": [
        "import numpy as np\n",
        "import pandas as pd\n",
        "s={'one' : pd.Series([1,2,5],index=['a','b','c']) , 'second' : pd.Series([1,2,3],index=['a','b','c'])}\n",
        "d=pd.DataFrame(s)\n",
        "d['three'] = pd.Series([10,20,30],index=['a','b','c'])\n",
        "print(d)\n",
        "d['four'] = d['one'] + d['three']\n",
        "print(d)"
      ],
      "metadata": {
        "colab": {
          "base_uri": "https://localhost:8080/"
        },
        "id": "9YSJ1pRhIjPk",
        "outputId": "83a5027b-9a1a-4a17-d64d-411fde99d08f"
      },
      "execution_count": 50,
      "outputs": [
        {
          "output_type": "stream",
          "name": "stdout",
          "text": [
            "   one  second  three\n",
            "a    1       1     10\n",
            "b    2       2     20\n",
            "c    5       3     30\n",
            "   one  second  three  four\n",
            "a    1       1     10    11\n",
            "b    2       2     20    22\n",
            "c    5       3     30    35\n"
          ]
        }
      ]
    },
    {
      "cell_type": "code",
      "source": [
        "import numpy as np\n",
        "import pandas as pd\n",
        "s={'one' : pd.Series([1,2,3,4,5],index=['a','b','c','d','e']) , 'second' : pd.Series([1,2,3,4,5],index=['a','b','c','d','e']) , 'third' : pd.Series([10,20,30],index=['a','b','c'])}\n",
        "d=pd.DataFrame(s)\n",
        "print(d)\n",
        "del d['second']\n",
        "print(d)"
      ],
      "metadata": {
        "colab": {
          "base_uri": "https://localhost:8080/"
        },
        "id": "ekgox42YJnmq",
        "outputId": "5a8deca2-c24d-4e98-bc27-8c2bcda4c1e5"
      },
      "execution_count": 52,
      "outputs": [
        {
          "output_type": "stream",
          "name": "stdout",
          "text": [
            "   one  second  third\n",
            "a    1       1   10.0\n",
            "b    2       2   20.0\n",
            "c    3       3   30.0\n",
            "d    4       4    NaN\n",
            "e    5       5    NaN\n",
            "   one  third\n",
            "a    1   10.0\n",
            "b    2   20.0\n",
            "c    3   30.0\n",
            "d    4    NaN\n",
            "e    5    NaN\n"
          ]
        }
      ]
    },
    {
      "cell_type": "code",
      "source": [
        "import numpy as np\n",
        "import pandas as pd\n",
        "s={'one' : pd.Series([1,2,3,4,5],index=['a','b','c','d','e']) , 'second' : pd.Series([1,2,3,4,5],index=['a','b','c','d','e']) , 'third' : pd.Series([10,20,30],index=['a','b','c'])}\n",
        "d=pd.DataFrame(s)\n",
        "print(d)\n",
        "d.pop('second')\n",
        "print(d)"
      ],
      "metadata": {
        "colab": {
          "base_uri": "https://localhost:8080/"
        },
        "id": "xtJZcYsVKUA5",
        "outputId": "6ea88165-a8bf-4186-ca75-64da29bc2702"
      },
      "execution_count": 55,
      "outputs": [
        {
          "output_type": "stream",
          "name": "stdout",
          "text": [
            "   one  second  third\n",
            "a    1       1   10.0\n",
            "b    2       2   20.0\n",
            "c    3       3   30.0\n",
            "d    4       4    NaN\n",
            "e    5       5    NaN\n",
            "   one  third\n",
            "a    1   10.0\n",
            "b    2   20.0\n",
            "c    3   30.0\n",
            "d    4    NaN\n",
            "e    5    NaN\n"
          ]
        }
      ]
    },
    {
      "cell_type": "code",
      "source": [
        "import numpy as np\n",
        "import pandas as pd\n",
        "s=pd.Series(np.random.randn(2))\n",
        "print(s)"
      ],
      "metadata": {
        "colab": {
          "base_uri": "https://localhost:8080/"
        },
        "id": "E98yT2bAM--0",
        "outputId": "ecf2138c-3073-4ba8-ca9c-06cbeae91e18"
      },
      "execution_count": 60,
      "outputs": [
        {
          "output_type": "stream",
          "name": "stdout",
          "text": [
            "0   -0.938018\n",
            "1    2.008708\n",
            "dtype: float64\n"
          ]
        }
      ]
    },
    {
      "cell_type": "code",
      "source": [
        "import numpy as np\n",
        "import pandas as pd\n",
        "s=pd.Series(np.random.randn(2))\n",
        "print(s.axes)"
      ],
      "metadata": {
        "colab": {
          "base_uri": "https://localhost:8080/"
        },
        "id": "quvDq64JN_Hx",
        "outputId": "db0175d6-039a-4ecb-c28d-9bd13e0caa59"
      },
      "execution_count": 62,
      "outputs": [
        {
          "output_type": "stream",
          "name": "stdout",
          "text": [
            "[RangeIndex(start=0, stop=2, step=1)]\n"
          ]
        }
      ]
    },
    {
      "cell_type": "code",
      "source": [
        "import numpy as np\n",
        "import pandas as pd\n",
        "s=pd.Series(np.random.randn(2))\n",
        "print(s.empty)"
      ],
      "metadata": {
        "colab": {
          "base_uri": "https://localhost:8080/"
        },
        "id": "glJfOy7FOmGd",
        "outputId": "ef4af2fa-7ffc-4363-df8e-f6b29d784b68"
      },
      "execution_count": 63,
      "outputs": [
        {
          "output_type": "stream",
          "name": "stdout",
          "text": [
            "False\n"
          ]
        }
      ]
    },
    {
      "cell_type": "code",
      "source": [
        "import numpy as np\n",
        "import pandas as pd\n",
        "s=pd.Series(np.random.randn(0))\n",
        "print(s.empty)"
      ],
      "metadata": {
        "colab": {
          "base_uri": "https://localhost:8080/"
        },
        "id": "hUex4vcZPUOt",
        "outputId": "7644a0f1-f167-45a4-8166-d73752bb5ecf"
      },
      "execution_count": 64,
      "outputs": [
        {
          "output_type": "stream",
          "name": "stdout",
          "text": [
            "True\n"
          ]
        }
      ]
    },
    {
      "cell_type": "code",
      "source": [
        "import numpy as np\n",
        "import pandas as pd\n",
        "s=pd.Series(np.random.randn(2))\n",
        "print(s)\n",
        "print(s.ndim)"
      ],
      "metadata": {
        "colab": {
          "base_uri": "https://localhost:8080/"
        },
        "id": "mL9sEGX8PX3M",
        "outputId": "17cfa4cb-574f-49f0-f280-4587a4b65f7d"
      },
      "execution_count": 66,
      "outputs": [
        {
          "output_type": "stream",
          "name": "stdout",
          "text": [
            "0   -0.866168\n",
            "1    0.977924\n",
            "dtype: float64\n",
            "1\n"
          ]
        }
      ]
    },
    {
      "cell_type": "code",
      "source": [
        "import numpy as np\n",
        "import pandas as pd\n",
        "s=pd.Series(np.random.randn(2))\n",
        "print(s.size)"
      ],
      "metadata": {
        "colab": {
          "base_uri": "https://localhost:8080/"
        },
        "id": "XRNVkWyEPns9",
        "outputId": "d0fb9600-8f95-40e6-b812-d26ffcbc0d93"
      },
      "execution_count": 67,
      "outputs": [
        {
          "output_type": "stream",
          "name": "stdout",
          "text": [
            "2\n"
          ]
        }
      ]
    },
    {
      "cell_type": "code",
      "source": [
        "import numpy as np\n",
        "import pandas as pd\n",
        "s=pd.Series(np.random.randn(2))\n",
        "print(s.values)"
      ],
      "metadata": {
        "colab": {
          "base_uri": "https://localhost:8080/"
        },
        "id": "lLglBM0aPtrO",
        "outputId": "5703f2ca-cfca-423b-a480-5f7ef6cc10bc"
      },
      "execution_count": 68,
      "outputs": [
        {
          "output_type": "stream",
          "name": "stdout",
          "text": [
            "[-0.61409842  1.01850216]\n"
          ]
        }
      ]
    },
    {
      "cell_type": "code",
      "source": [
        "import numpy as np\n",
        "import pandas as pd\n",
        "s=pd.Series(np.random.randn(4))\n",
        "print(s)\n",
        "print(s.head(2))"
      ],
      "metadata": {
        "colab": {
          "base_uri": "https://localhost:8080/"
        },
        "id": "iskoYUirQNZb",
        "outputId": "0fa72583-c13a-4fbc-f8e7-30307b50f782"
      },
      "execution_count": 75,
      "outputs": [
        {
          "output_type": "stream",
          "name": "stdout",
          "text": [
            "0   -0.003612\n",
            "1    1.265107\n",
            "2   -0.436731\n",
            "3    1.372886\n",
            "dtype: float64\n",
            "0   -0.003612\n",
            "1    1.265107\n",
            "dtype: float64\n"
          ]
        }
      ]
    },
    {
      "cell_type": "code",
      "source": [
        "import numpy as np\n",
        "import pandas as pd\n",
        "s=pd.Series(np.random.randn(4))\n",
        "print(s)\n",
        "print(s.tail(2))"
      ],
      "metadata": {
        "colab": {
          "base_uri": "https://localhost:8080/"
        },
        "id": "jCK1jWhvQeJI",
        "outputId": "0a98df21-c234-4159-88a7-dddc6143da4a"
      },
      "execution_count": 74,
      "outputs": [
        {
          "output_type": "stream",
          "name": "stdout",
          "text": [
            "0    1.662510\n",
            "1    0.168871\n",
            "2    0.085754\n",
            "3    1.334177\n",
            "dtype: float64\n",
            "2    0.085754\n",
            "3    1.334177\n",
            "dtype: float64\n"
          ]
        }
      ]
    },
    {
      "cell_type": "code",
      "source": [
        "import pandas as pd\n",
        "\n",
        "import numpy as np\n",
        "\n",
        "d = { 'Name':pd.Series(['Tom', 'James', 'Ricky', 'Vin', 'Steve', 'Smith', 'Jack']), 'Age':pd.Series([25,26,25,23,30,29,23]),\n",
        "\n",
        "'Rating':pd.Series([4.23,3.24,3.98,2.56,3.20,4.6,3.8])}\n",
        "\n",
        "\n",
        "df = pd.DataFrame(d)\n",
        "print(df)\n",
        "print (\"The transpose of the data series is:\")\n",
        "print(df.T)"
      ],
      "metadata": {
        "colab": {
          "base_uri": "https://localhost:8080/"
        },
        "id": "A7-zpqVMR162",
        "outputId": "e2fc0765-a372-4faf-dcb8-3d103398e00a"
      },
      "execution_count": 81,
      "outputs": [
        {
          "output_type": "stream",
          "name": "stdout",
          "text": [
            "    Name  Age  Rating\n",
            "0    Tom   25    4.23\n",
            "1  James   26    3.24\n",
            "2  Ricky   25    3.98\n",
            "3    Vin   23    2.56\n",
            "4  Steve   30    3.20\n",
            "5  Smith   29    4.60\n",
            "6   Jack   23    3.80\n",
            "The transpose of the data series is:\n",
            "           0      1      2     3      4      5     6\n",
            "Name     Tom  James  Ricky   Vin  Steve  Smith  Jack\n",
            "Age       25     26     25    23     30     29    23\n",
            "Rating  4.23   3.24   3.98  2.56    3.2    4.6   3.8\n"
          ]
        }
      ]
    },
    {
      "cell_type": "code",
      "source": [
        "import pandas as pd\n",
        "\n",
        "import numpy as np\n",
        "\n",
        "d = { 'Name':pd.Series(['Tom', 'James', 'Ricky', 'Vin', 'Steve', 'Smith', 'Jack']), 'Age':pd.Series([25,26,25,23,30,29,23]),\n",
        "\n",
        "'Rating':pd.Series([4.23,3.24,3.98,2.56,3.20,4.6,3.8])}\n",
        "\n",
        "\n",
        "df = pd.DataFrame(d)\n",
        "\n",
        "print(df)\n",
        "print(df.shape)"
      ],
      "metadata": {
        "colab": {
          "base_uri": "https://localhost:8080/"
        },
        "id": "bvvaG1ZhS9MA",
        "outputId": "535adb3b-773d-462a-874b-51c9732d94eb"
      },
      "execution_count": 80,
      "outputs": [
        {
          "output_type": "stream",
          "name": "stdout",
          "text": [
            "    Name  Age  Rating\n",
            "0    Tom   25    4.23\n",
            "1  James   26    3.24\n",
            "2  Ricky   25    3.98\n",
            "3    Vin   23    2.56\n",
            "4  Steve   30    3.20\n",
            "5  Smith   29    4.60\n",
            "6   Jack   23    3.80\n",
            "(7, 3)\n"
          ]
        }
      ]
    }
  ],
  "metadata": {
    "colab": {
      "provenance": [],
      "authorship_tag": "ABX9TyNwiYKcHrgZ3fe+2cZ16Szh",
      "include_colab_link": true
    },
    "kernelspec": {
      "display_name": "Python 3",
      "name": "python3"
    },
    "language_info": {
      "name": "python"
    }
  },
  "nbformat": 4,
  "nbformat_minor": 0
}